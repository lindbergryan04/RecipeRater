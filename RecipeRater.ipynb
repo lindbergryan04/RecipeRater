{
 "cells": [
  {
   "cell_type": "markdown",
   "metadata": {},
   "source": [
    "# Recipe Project\n",
    "\n",
    "**Name(s)**: Ryan Lindberg\n",
    "\n",
    "**Website Link**: lindbergryan04.github.io/reponame"
   ]
  },
  {
   "cell_type": "code",
   "execution_count": null,
   "metadata": {
    "ExecuteTime": {
     "end_time": "2019-10-31T23:36:28.652554Z",
     "start_time": "2019-10-31T23:36:27.180520Z"
    }
   },
   "outputs": [],
   "source": [
    "import pandas as pd\n",
    "import numpy as np\n",
    "from pathlib import Path\n",
    "import os\n",
    "import plotly.express as px\n",
    "import ast\n",
    "import matplotlib.pyplot as plt\n",
    "import seaborn as sns\n",
    "pd.options.plotting.backend = 'plotly'\n",
    "from dsc80_utils import * "
   ]
  },
  {
   "cell_type": "markdown",
   "metadata": {},
   "source": [
    "## Step 1: Introduction"
   ]
  },
  {
   "cell_type": "code",
   "execution_count": null,
   "metadata": {},
   "outputs": [],
   "source": [
    "pd.set_option('display.max_rows', 50)\n",
    "pd.set_option('display.float_format', '{:.2f}'.format)"
   ]
  },
  {
   "cell_type": "code",
   "execution_count": null,
   "metadata": {},
   "outputs": [],
   "source": [
    "food_data = pd.read_csv('data/RAW_recipes.csv')\n",
    "interactions_data = pd.read_csv('data/RAW_interactions.csv')\n",
    "interactions_data['recipe_id'] = interactions_data['recipe_id'].astype(int)\n",
    "recipes = food_data.merge(interactions_data, how = 'left', right_on = 'recipe_id', left_on = 'id')\n",
    "recipes = recipes.set_index('id').drop(columns = ['Unnamed: 0_x','Unnamed: 0_y','recipe_id'])"
   ]
  },
  {
   "cell_type": "code",
   "execution_count": null,
   "metadata": {},
   "outputs": [],
   "source": [
    "recipes"
   ]
  },
  {
   "cell_type": "markdown",
   "metadata": {},
   "source": [
    "## Understanding the Data\n",
    "\n",
    "### Index\n",
    "- **id:** Recipe ID\n",
    "\n",
    "### Columns\n",
    "- **name:** Recipe name\n",
    "- **minutes:** Minutes required to prepare the recipe\n",
    "- **contributor_id:** User ID who submitted the recipe\n",
    "- **submitted:** Date the recipe was submitted\n",
    "- **tags:** Food.com tags associated with the recipe\n",
    "- **nutrition:** Nutrition information in the format:  \n",
    "  `[calories (#), total fat (PDV), sugar (PDV), sodium (PDV), protein (PDV), saturated fat (PDV), carbohydrates (PDV)]`\n",
    "- **n_steps:** Number of steps in the recipe\n",
    "- **steps:** Text for the recipe steps, in order\n",
    "- **description:** User-provided description of the recipe\n",
    "- **user_id:** ID of the user who interacted with the recipe\n",
    "- **date:** Date of the interaction\n",
    "- **rating:** Rating given in the interaction\n",
    "- **review:** Review text from the interaction"
   ]
  },
  {
   "cell_type": "markdown",
   "metadata": {},
   "source": [
    "**Note:** Not all recipes have ratings due to the left merge, so some rows may have missing values for user_id, date, rating, and review."
   ]
  },
  {
   "cell_type": "markdown",
   "metadata": {},
   "source": [
    "### Possible Questions:\n",
    "\n",
    "**1.** What types of recipes tend to be healthier (i.e. more protein, fewer carbs)?\n",
    "\n",
    "**2.** What types of recipes tend to have higher average ratings?\n",
    "\n",
    "**3.** What is the relationship between the number of steps and rating of recipes?\n",
    "\n",
    "**4.** What is the relationship between nutritional metrics (e.g., calories, total fat, sugar) and user ratings?\n",
    "\n",
    "**5.** Which recipes offer the best balance between healthiness, quick preparation, and taste?"
   ]
  },
  {
   "cell_type": "markdown",
   "metadata": {},
   "source": [
    "**Motivation:**\n",
    "\n",
    "Since I have transferred to UCSD, my cooking has devolved to become a bit less healthy due to lack of food access and lack of time. I'm curious about what ingredients/recipes I could  use to help me fix this issue. Ideally these recipes are cost effective in terms of time and money, and use simple ingredients available at the campus Target. Also, the food should be tasty of course!\n",
    "\n",
    "I think **Question #5** will be the best to help me solve my predicament. "
   ]
  },
  {
   "cell_type": "markdown",
   "metadata": {},
   "source": [
    "## Step 2: Data Cleaning and Exploratory Data Analysis"
   ]
  },
  {
   "cell_type": "markdown",
   "metadata": {},
   "source": [
    "### Cleaning"
   ]
  },
  {
   "cell_type": "markdown",
   "metadata": {},
   "source": [
    "Repalce 0 ratings with np.nan:"
   ]
  },
  {
   "cell_type": "code",
   "execution_count": null,
   "metadata": {},
   "outputs": [],
   "source": [
    "recipes['rating'] = recipes['rating'].replace(0, np.nan)"
   ]
  },
  {
   "cell_type": "markdown",
   "metadata": {},
   "source": [
    "Add avg_rating column (avg rating for each recipe):"
   ]
  },
  {
   "cell_type": "code",
   "execution_count": null,
   "metadata": {},
   "outputs": [],
   "source": [
    "recipes['avg_rating'] = recipes.groupby('id')['rating'].transform('mean')"
   ]
  },
  {
   "cell_type": "markdown",
   "metadata": {},
   "source": [
    "Remove unnecessary columns:"
   ]
  },
  {
   "cell_type": "code",
   "execution_count": null,
   "metadata": {
    "ExecuteTime": {
     "end_time": "2019-10-31T23:36:28.657068Z",
     "start_time": "2019-10-31T23:36:28.654650Z"
    }
   },
   "outputs": [],
   "source": [
    "recipes = recipes.drop(columns = ['review','contributor_id','user_id','date','submitted','description','steps'])"
   ]
  },
  {
   "cell_type": "markdown",
   "metadata": {},
   "source": [
    "Convert string lists to actual lists:\n",
    "\n",
    "For example: The string \"['60-minutes-or-less', 'time-to-make', 'course']\" from tags column, or the string '[138.4, 10.0, 50.0, 3.0, 3.0, 19.0, 6.0]' from nutrition column."
   ]
  },
  {
   "cell_type": "code",
   "execution_count": null,
   "metadata": {},
   "outputs": [],
   "source": [
    "columns_to_convert = ['tags','nutrition','ingredients']  \n",
    "\n",
    "for col in columns_to_convert:\n",
    "    recipes[col] = recipes[col].apply(ast.literal_eval)"
   ]
  },
  {
   "cell_type": "markdown",
   "metadata": {},
   "source": [
    "Parse nutrition lists into their own columns:"
   ]
  },
  {
   "cell_type": "markdown",
   "metadata": {},
   "source": [
    "  `[calories (#), total fat (PDV), sugar (PDV), sodium (PDV), protein (PDV), saturated fat (PDV), carbohydrates (PDV)]`\n"
   ]
  },
  {
   "cell_type": "code",
   "execution_count": null,
   "metadata": {},
   "outputs": [],
   "source": [
    "recipes[[\n",
    "    'calories',\n",
    "    'total_fat',\n",
    "    'sugar',\n",
    "    'sodium',\n",
    "    'protein',\n",
    "    'sat_fat',\n",
    "    'carbs'\n",
    "]] = pd.DataFrame(recipes['nutrition'].tolist(), index=recipes.index)"
   ]
  },
  {
   "cell_type": "code",
   "execution_count": null,
   "metadata": {},
   "outputs": [],
   "source": [
    "recipes = recipes.drop(columns = ['nutrition'])"
   ]
  },
  {
   "cell_type": "code",
   "execution_count": null,
   "metadata": {},
   "outputs": [],
   "source": [
    "recipes"
   ]
  },
  {
   "cell_type": "markdown",
   "metadata": {},
   "source": [
    "### Exploratory Analysis"
   ]
  },
  {
   "cell_type": "markdown",
   "metadata": {},
   "source": [
    "**Eda**\n",
    "\n",
    "What is the distribution of preparation times (minutes) across recipes?\n",
    "\n",
    "How do ratings (as a proxy for taste) correlate with preparation time and nutritional metrics (e.g., calories, total fat, sugar, etc.)?\n",
    "\n",
    "**what to look at**\n",
    "\n",
    "Plot histograms of preparation times and ratings.\n",
    "\n",
    "Create scatter plots comparing minutes versus rating, and overlay nutritional metrics (e.g., using color or size) to see if quicker recipes tend to have better or worse nutritional profiles.\n",
    "\n",
    "Compute correlation matrices to quantify relationships between variables such as minutes, calories, fat, and rating."
   ]
  },
  {
   "cell_type": "markdown",
   "metadata": {},
   "source": [
    "How does preparation time (minutes) correlate to rating?"
   ]
  },
  {
   "cell_type": "code",
   "execution_count": null,
   "metadata": {},
   "outputs": [],
   "source": [
    "eda_recipes = recipes.copy()"
   ]
  },
  {
   "cell_type": "markdown",
   "metadata": {},
   "source": [
    "Remove duplicate recipes:"
   ]
  },
  {
   "cell_type": "code",
   "execution_count": null,
   "metadata": {},
   "outputs": [],
   "source": [
    "eda_recipes = eda_recipes[~eda_recipes.index.duplicated(keep='first')]\n"
   ]
  },
  {
   "cell_type": "markdown",
   "metadata": {},
   "source": [
    "Lets look at the descriptive statistics of rating and prep time:"
   ]
  },
  {
   "cell_type": "code",
   "execution_count": null,
   "metadata": {},
   "outputs": [],
   "source": [
    "print(eda_recipes['minutes'].describe())\n",
    "print(eda_recipes['rating'].describe())\n"
   ]
  },
  {
   "cell_type": "code",
   "execution_count": null,
   "metadata": {},
   "outputs": [],
   "source": [
    "np.count_nonzero(eda_recipes['minutes'] > (60 * 4))"
   ]
  },
  {
   "cell_type": "markdown",
   "metadata": {},
   "source": [
    "The maximum prep time is 1051200 minutes. Lets remove the outliers with a prep time > 4 hours so we can plot the distribution.\n",
    "\n",
    "The mean rating for all recipes is 4.65, which is oddly high. On a 1-10 scale thats equivalent to 9.3. Either the recipes in this dataset are very good, or the ratings are biased towards higher values. "
   ]
  },
  {
   "cell_type": "code",
   "execution_count": null,
   "metadata": {},
   "outputs": [],
   "source": [
    "eda_recipes = eda_recipes[eda_recipes['minutes'] < (60 * 4)]"
   ]
  },
  {
   "cell_type": "code",
   "execution_count": null,
   "metadata": {},
   "outputs": [],
   "source": [
    "import matplotlib.pyplot as plt\n",
    "import numpy as np\n",
    "\n",
    "# Use an available style, e.g., \"seaborn\" or \"seaborn-whitegrid\"\n",
    "plt.style.use('fivethirtyeight')\n",
    "\n",
    "plt.figure(figsize=(8, 6))\n",
    "plt.hist(eda_recipes['minutes'], bins=np.arange(0, 185, 5),\n",
    "         edgecolor='black', color='#4c72b0')  # A pleasing blue\n",
    "\n",
    "plt.ticklabel_format(style='plain', axis='x')\n",
    "plt.xlabel(\"Minutes\", fontsize=12, fontweight='bold')\n",
    "plt.ylabel(\"Frequency\", fontsize=12, fontweight='bold')\n",
    "plt.title(\"Distribution of Recipe Minutes\", fontsize=14, fontweight='bold')\n",
    "plt.tight_layout()\n",
    "plt.show()\n",
    "\n",
    "\n",
    "import matplotlib.pyplot as plt\n",
    "import numpy as np\n",
    "\n",
    "# Use an available style, e.g., \"seaborn\" or \"seaborn-whitegrid\"\n",
    "plt.style.use('fivethirtyeight')\n",
    "\n",
    "plt.figure(figsize=(8, 6))\n",
    "plt.hist(eda_recipes['rating'], bins=5,\n",
    "         edgecolor='black', color='#4c72b0')  # A pleasing blue\n",
    "\n",
    "plt.ticklabel_format(style='plain', axis='x')\n",
    "plt.xlabel(\"Rating\", fontsize=12, fontweight='bold')\n",
    "plt.ylabel(\"Frequency\", fontsize=12, fontweight='bold')\n",
    "plt.title(\"Distribution of Ratings\", fontsize=14, fontweight='bold')\n",
    "plt.tight_layout()\n",
    "plt.show()"
   ]
  },
  {
   "cell_type": "markdown",
   "metadata": {},
   "source": [
    "Next, which nutritional values are most linearly correlated with rating?"
   ]
  },
  {
   "cell_type": "code",
   "execution_count": null,
   "metadata": {},
   "outputs": [],
   "source": [
    "# List of numeric columns you want to correlate\n",
    "cols_to_correlate = [\n",
    "    'rating',\n",
    "    'calories',\n",
    "    'total_fat',\n",
    "    'sugar',\n",
    "    'sodium',\n",
    "    'protein',\n",
    "    'sat_fat',\n",
    "    'carbs'\n",
    "]\n",
    "\n",
    "# Calculate the correlation matrix (Pearson correlation by default)\n",
    "corr_matrix = eda_recipes[cols_to_correlate].corr()\n",
    "\n",
    "# Print the correlation matrix\n",
    "print(corr_matrix)"
   ]
  },
  {
   "cell_type": "code",
   "execution_count": null,
   "metadata": {},
   "outputs": [],
   "source": [
    "plt.figure(figsize=(8, 6))\n",
    "sns.heatmap(\n",
    "    corr_matrix,\n",
    "    annot=True,      # Annotate each cell with the correlation value\n",
    "    cmap='coolwarm', # Color palette; try 'viridis', 'YlGnBu', etc.\n",
    "    vmin=-1, vmax=1  # Correlation ranges from -1 to 1\n",
    ")\n",
    "plt.title(\"Correlation Heatmap\")\n",
    "plt.show()"
   ]
  },
  {
   "cell_type": "markdown",
   "metadata": {},
   "source": [
    "It seems that no linear correlation between any nutritional metric and rating. My intuition would lead me to think maybe sugar and carbs would have some positive association. We can see that calories and fat are highly correlated, as well as sugar and carbs."
   ]
  },
  {
   "cell_type": "code",
   "execution_count": null,
   "metadata": {},
   "outputs": [],
   "source": [
    "# List of numeric columns you want to correlate\n",
    "cols_to_correlate = [\n",
    "    'rating',\n",
    "    'minutes',\n",
    "    'n_steps',\n",
    "    'n_ingredients',\n",
    "]\n",
    "\n",
    "# Calculate the correlation matrix (Pearson correlation by default)\n",
    "corr_matrix = eda_recipes[cols_to_correlate].corr()\n",
    "\n",
    "# Print the correlation matrix\n",
    "print(corr_matrix)"
   ]
  },
  {
   "cell_type": "markdown",
   "metadata": {},
   "source": [
    "So if the nutritional facts dont tell us about the rating, what does?"
   ]
  },
  {
   "cell_type": "code",
   "execution_count": null,
   "metadata": {},
   "outputs": [],
   "source": [
    "plt.figure(figsize=(8, 6))\n",
    "sns.heatmap(\n",
    "    corr_matrix,\n",
    "    annot=True,      # Annotate each cell with the correlation value\n",
    "    cmap='coolwarm', # Color palette; try 'viridis', 'YlGnBu', etc.\n",
    "    vmin=-1, vmax=1  # Correlation ranges from -1 to 1\n",
    ")\n",
    "plt.title(\"Correlation Heatmap\")\n",
    "plt.show()"
   ]
  },
  {
   "cell_type": "markdown",
   "metadata": {},
   "source": [
    "So it seems that there is no linear correlation between rating and any of our variables. Lets take a look at the scatter plots to verify."
   ]
  },
  {
   "cell_type": "code",
   "execution_count": null,
   "metadata": {},
   "outputs": [],
   "source": []
  },
  {
   "cell_type": "code",
   "execution_count": null,
   "metadata": {},
   "outputs": [],
   "source": []
  },
  {
   "cell_type": "markdown",
   "metadata": {},
   "source": [
    "## Step 3: Assessment of Missingness"
   ]
  },
  {
   "cell_type": "code",
   "execution_count": null,
   "metadata": {
    "ExecuteTime": {
     "end_time": "2019-10-31T23:36:28.662099Z",
     "start_time": "2019-10-31T23:36:28.660016Z"
    }
   },
   "outputs": [],
   "source": [
    "# TODO"
   ]
  },
  {
   "cell_type": "markdown",
   "metadata": {},
   "source": [
    "## Step 4: Hypothesis Testing"
   ]
  },
  {
   "cell_type": "code",
   "execution_count": null,
   "metadata": {
    "ExecuteTime": {
     "end_time": "2019-10-31T23:36:28.666489Z",
     "start_time": "2019-10-31T23:36:28.664381Z"
    }
   },
   "outputs": [],
   "source": [
    "# TODO"
   ]
  },
  {
   "cell_type": "markdown",
   "metadata": {},
   "source": [
    "## Step 5: Framing a Prediction Problem"
   ]
  },
  {
   "cell_type": "markdown",
   "metadata": {
    "ExecuteTime": {
     "end_time": "2019-10-31T23:36:28.657068Z",
     "start_time": "2019-10-31T23:36:28.654650Z"
    }
   },
   "source": [
    "2. Data Preprocessing and Feature Engineering\n",
    "Extract Nutritional Data:\n",
    "Parse the nutrition column into individual features (calories, total fat, sugar, sodium, protein, saturated fat, carbohydrates). This will allow you to standardize each metric.\n",
    "\n",
    "Normalization:\n",
    "Normalize each feature so that all metrics are on a similar scale. For example, convert calories and protein into z-scores or min–max scaled values.\n",
    "\n",
    "Create Derived Metrics:\n",
    "\n",
    "Healthiness Score: A possible formulation might be:\n",
    "Healthiness = (Normalized Protein) – (Normalized Calories + Normalized Saturated Fat + Normalized Sodium)\n",
    "(You can adjust the formula and include other nutrients as needed.)\n",
    "Quickness Score: Compute something like:\n",
    "Quickness = 1 / (1 + minutes)\n",
    "so that lower preparation times yield a higher score.\n",
    "Taste Score: Directly use the normalized average rating.\n",
    "\n",
    "3. Constructing the Composite Score\n",
    "Combine the three components using a weighted sum:\n",
    "\n",
    "Composite Score\n",
    "=\n",
    "�\n",
    "×\n",
    "Healthiness Score\n",
    "+\n",
    "�\n",
    "×\n",
    "Taste Score\n",
    "+\n",
    "�\n",
    "×\n",
    "Quickness Score\n",
    "Composite Score=α×Healthiness Score+β×Taste Score+γ×Quickness Score\n",
    "Weights (α, β, γ):\n",
    "These values represent how important each component is relative to the others. You can start with equal weights or adjust them based on your personal preference (e.g., if healthiness is your top priority, choose a higher α).\n",
    "\n",
    "\n",
    "4. Model Development Options\n",
    "You have a couple of paths for implementing this:\n",
    "\n",
    "Rule-Based Model:\n",
    "Start with the weighted sum approach described above. This is transparent and easy to adjust, especially if you don’t have a target variable that directly represents the “ideal” balance.\n",
    "\n",
    "Supervised Machine Learning:\n",
    "If you have historical data where recipes are labeled (or you can derive a target composite score from user interactions), you could train a regression model (e.g., linear regression, random forest, gradient boosting) to predict the composite score from the features.\n",
    "\n",
    "Training Data: Use your engineered features (healthiness, quickness, taste) and any additional recipe metadata.\n",
    "Validation: Apply cross-validation to ensure that your model generalizes well.\n",
    "Multi-Criteria Decision Making (MCDM):\n",
    "Techniques like the Analytic Hierarchy Process (AHP) or TOPSIS can also be used to rank recipes based on multiple attributes. This might be particularly useful if you want a model that doesn't necessarily require a large training dataset.\n",
    "\n",
    "5. Implementation and Evaluation\n",
    "Model Tuning:\n",
    "Experiment with different weight combinations (α, β, γ) to see how your recipe rankings change. You might use grid search or a similar optimization technique to find the best performing combination.\n",
    "\n",
    "Validation:\n",
    "Compare the composite scores against user feedback (ratings or reviews) to check if higher scores correlate with better perceived recipes.\n",
    "\n",
    "Iterative Refinement:\n",
    "Gather feedback and adjust the model. For instance, if you notice that recipes with short preparation times but very unhealthy profiles are scoring too high, you might need to penalize the healthiness score more heavily."
   ]
  },
  {
   "cell_type": "markdown",
   "metadata": {},
   "source": [
    "## Step 6: Baseline Model"
   ]
  },
  {
   "cell_type": "code",
   "execution_count": null,
   "metadata": {
    "ExecuteTime": {
     "end_time": "2019-10-31T23:36:28.662099Z",
     "start_time": "2019-10-31T23:36:28.660016Z"
    }
   },
   "outputs": [],
   "source": [
    "# TODO"
   ]
  },
  {
   "cell_type": "markdown",
   "metadata": {},
   "source": [
    "## Step 7: Final Model"
   ]
  },
  {
   "cell_type": "code",
   "execution_count": null,
   "metadata": {
    "ExecuteTime": {
     "end_time": "2019-10-31T23:36:28.662099Z",
     "start_time": "2019-10-31T23:36:28.660016Z"
    }
   },
   "outputs": [],
   "source": [
    "# TODO"
   ]
  },
  {
   "cell_type": "markdown",
   "metadata": {},
   "source": [
    "## Step 8: Fairness Analysis"
   ]
  },
  {
   "cell_type": "code",
   "execution_count": null,
   "metadata": {
    "ExecuteTime": {
     "end_time": "2019-10-31T23:36:28.666489Z",
     "start_time": "2019-10-31T23:36:28.664381Z"
    }
   },
   "outputs": [],
   "source": [
    "# TODO"
   ]
  }
 ],
 "metadata": {
  "kernelspec": {
   "display_name": "dsc80",
   "language": "python",
   "name": "python3"
  },
  "language_info": {
   "codemirror_mode": {
    "name": "ipython",
    "version": 3
   },
   "file_extension": ".py",
   "mimetype": "text/x-python",
   "name": "python",
   "nbconvert_exporter": "python",
   "pygments_lexer": "ipython3",
   "version": "3.12.8"
  }
 },
 "nbformat": 4,
 "nbformat_minor": 2
}
